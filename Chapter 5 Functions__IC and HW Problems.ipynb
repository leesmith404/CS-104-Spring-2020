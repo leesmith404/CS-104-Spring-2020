{
 "cells": [
  {
   "cell_type": "markdown",
   "metadata": {},
   "source": [
    "### Chapter 5:  Functions, Page 245"
   ]
  },
  {
   "cell_type": "markdown",
   "metadata": {},
   "source": [
    "#### Submit your answer .py file with this Header:\n",
    " - Full Name\n",
    " - Date\n",
    " - Section\n",
    " #### Send to leesmith_cs104_spring_2020@gmail.com\n",
    "  - Keep a copy for your records"
   ]
  },
  {
   "cell_type": "code",
   "execution_count": 3,
   "metadata": {},
   "outputs": [],
   "source": [
    "# '''•• Page 305, P5.3 Write the following functions and provide a program to test them.\n",
    "# a. def firstDigit(n) (returning the first digit of the argument)\n",
    "# b. def lastDigit(n) (returning the last digit of the argument)\n",
    "# c. def digits(n) (returning the number of digits in the argument)\n",
    "# For example, firstDigit(1729) is 1, lastDigit(1729) is 9, and digits(1729) is 4.'''"
   ]
  },
  {
   "cell_type": "code",
   "execution_count": null,
   "metadata": {},
   "outputs": [],
   "source": [
    "# • P5.4 Write a function\n",
    "# def middle(string)\n",
    "# that returns a string containing the middle character in string if the length of string is\n",
    "# odd, or the two middle characters if the length is even. For example, middle(\"middle\")\n",
    "# returns \"dd\"."
   ]
  },
  {
   "cell_type": "code",
   "execution_count": null,
   "metadata": {},
   "outputs": [],
   "source": [
    "# •• P5.7 Write a function\n",
    "# def countWords(string)\n",
    "# that returns a count of all words in the string string. Words are separated by spaces.\n",
    "# For example, countWords(\"\n",
    "# Mary had a little lamb\") should return 5."
   ]
  },
  {
   "cell_type": "code",
   "execution_count": null,
   "metadata": {},
   "outputs": [],
   "source": []
  }
 ],
 "metadata": {
  "kernelspec": {
   "display_name": "Python [default]",
   "language": "python",
   "name": "python3"
  },
  "language_info": {
   "codemirror_mode": {
    "name": "ipython",
    "version": 3
   },
   "file_extension": ".py",
   "mimetype": "text/x-python",
   "name": "python",
   "nbconvert_exporter": "python",
   "pygments_lexer": "ipython3",
   "version": "3.5.6"
  }
 },
 "nbformat": 4,
 "nbformat_minor": 2
}
